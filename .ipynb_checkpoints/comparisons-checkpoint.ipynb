{
 "cells": [
  {
   "cell_type": "code",
   "execution_count": 1,
   "metadata": {
    "collapsed": true
   },
   "outputs": [],
   "source": [
    "%matplotlib inline\n",
    "import matplotlib.pyplot as plt\n",
    "import seaborn as sns; sns.set()\n",
    "import numpy as np\n",
    "\n",
    "import numpy as np \n",
    "import pandas as pd\n",
    "import torch\n",
    "from main import *\n",
    "\n",
    "from sklearn.datasets.samples_generator import make_blobs\n",
    "from sklearn.mixture import GMM\n",
    "from sklearn.cluster import KMeans\n",
    "\n",
    "from model import * \n",
    "#to supress depreciation warnings \n",
    "import warnings; warnings.simplefilter('ignore')"
   ]
  },
  {
   "cell_type": "code",
   "execution_count": 2,
   "metadata": {},
   "outputs": [
    {
     "data": {
      "text/plain": [
       "(60, 118)"
      ]
     },
     "execution_count": 2,
     "metadata": {},
     "output_type": "execute_result"
    },
    {
     "data": {
      "image/png": "[encoded data removed]",
      "text/plain": [
       "<Figure size 576x396 with 1 Axes>"
      ]
     },
     "metadata": {},
     "output_type": "display_data"
    }
   ],
   "source": [
    "X, y_true = make_blobs(n_samples=60, n_features = 118, centers=2,\n",
    "                       cluster_std=0.60, random_state=0)\n",
    "# X = X[:, ::-1] # flip axes for better plotting\n",
    "\n",
    "plt.scatter(X[:,0], X[:,1])\n",
    "X.shape"
   ]
  },
  {
   "cell_type": "code",
   "execution_count": 3,
   "metadata": {},
   "outputs": [
    {
     "name": "stdout",
     "output_type": "stream",
     "text": [
      "(60, 118)\n",
      "(60,)\n"
     ]
    },
    {
     "data": {
      "image/png": "[encoded data removed]",
      "text/plain": [
       "<Figure size 576x396 with 1 Axes>"
      ]
     },
     "metadata": {},
     "output_type": "display_data"
    }
   ],
   "source": [
    "gmm = GMM(n_components=2).fit(X)\n",
    "labels = gmm.predict(X)\n",
    "plt.scatter(X[:, 0], X[:, 1], c=labels, s=40, cmap='viridis');\n",
    "print(X.shape)\n",
    "print(labels.shape)"
   ]
  },
  {
   "cell_type": "markdown",
   "metadata": {},
   "source": [
    "# PR and F-Score for GMM "
   ]
  },
  {
   "cell_type": "code",
   "execution_count": 4,
   "metadata": {},
   "outputs": [
    {
     "name": "stdout",
     "output_type": "stream",
     "text": [
      "Precision : 1.0000, Recall : 1.0000, F-score : 1.0000\n"
     ]
    }
   ],
   "source": [
    "from sklearn.metrics import precision_recall_fscore_support as prf, accuracy_score \n",
    "\n",
    "precision, recall, f_score, support = prf(y_true, labels, average='binary')\n",
    "print(\"Precision : {:0.4f}, Recall : {:0.4f}, F-score : {:0.4f}\".format(precision,recall, f_score))"
   ]
  },
  {
   "cell_type": "markdown",
   "metadata": {},
   "source": [
    "# Experimentation with DAGMM "
   ]
  },
  {
   "cell_type": "code",
   "execution_count": 5,
   "metadata": {
    "collapsed": true
   },
   "outputs": [],
   "source": [
    "lambda_energy = 0.1 \n",
    "lambda_cov_diag = 0.005 \n",
    "num_epochs = 100\n",
    "lr =  1e-4"
   ]
  },
  {
   "cell_type": "code",
   "execution_count": 6,
   "metadata": {
    "collapsed": true,
    "scrolled": true
   },
   "outputs": [],
   "source": [
    "model = DaGMM()\n",
    "optimizer = torch.optim.SGD(model.parameters(), lr = lr)\n",
    "gamma_ls = [] \n",
    "for i in range(num_epochs): \n",
    "#     X, y_true = make_blobs(n_samples=60, n_features = 118, centers=2,\n",
    "#                        cluster_std=0.60, random_state=0)\n",
    "    X, y_true = make_blobs(n_samples=60, n_features = 118, centers=2,\n",
    "                       cluster_std=0.60)\n",
    "    X = to_var(torch.tensor(X, dtype=torch.float))\n",
    "    \n",
    "    enc, dec, z, gamma = model.forward(X)\n",
    "    total_loss, sample_energy, recon_error, cov_diag = model.loss_function(X, dec, z, gamma,lambda_energy,lambda_cov_diag)\n",
    "    gamma_ls.append(gamma.detach().numpy())\n",
    "    optimizer.zero_grad()\n",
    "    total_loss.backward()\n",
    "    optimizer.step() \n",
    "#     print(model.mu.numpy())\n",
    "#     print(model.cov.numpy())"
   ]
  },
  {
   "cell_type": "markdown",
   "metadata": {},
   "source": [
    "# PR and F-Score for DAGMM       "
   ]
  },
  {
   "cell_type": "code",
   "execution_count": 7,
   "metadata": {},
   "outputs": [
    {
     "name": "stdout",
     "output_type": "stream",
     "text": [
      "Accuracy : 0.4167, Precision : 0.0000, Recall : 0.0000, F-score : 0.0000\n"
     ]
    }
   ],
   "source": [
    "# Testing the precision recall score on test data \n",
    "X_test, y_test = make_blobs(n_samples=60, n_features = 118, centers=2,\n",
    "                       cluster_std=0.60)\n",
    "X_test = to_var(torch.tensor(X_test, dtype=torch.float))\n",
    "enc, dec, z, gamma = model.forward(X_test)\n",
    "\n",
    "labels = [] \n",
    "new_gamma = gamma.detach().numpy()\n",
    "\n",
    "for i in range(new_gamma.shape[0]):\n",
    "    cluster_one_id = new_gamma[i][0]\n",
    "    cluster_two_id = new_gamma[i][1]\n",
    "    if (cluster_one_id <= cluster_two_id):\n",
    "        labels.append(0)\n",
    "    else:\n",
    "        labels.append(1)\n",
    "        \n",
    "assert(len(labels) == new_gamma.shape[0])\n",
    "\n",
    "accuracy = accuracy_score(y_test, labels)\n",
    "precision, recall, f_score, support = prf(y_test, labels, average='binary')\n",
    "# print(\"Precision : {:0.4f}, Recall : {:0.4f}, F-score : {:0.4f}\".format(precision,recall, f_score))\n",
    "print(\"Accuracy : {:0.4f}, Precision : {:0.4f}, Recall : {:0.4f}, F-score : {:0.4f}\".format(accuracy,precision, recall, f_score))"
   ]
  },
  {
   "cell_type": "code",
   "execution_count": 9,
   "metadata": {},
   "outputs": [
    {
     "name": "stdout",
     "output_type": "stream",
     "text": [
      "[0, 0, 0, 0, 0, 0, 0, 0, 0, 0, 0, 0, 0, 0, 0, 0, 0, 0, 0, 0, 0, 0, 0, 0, 0, 0, 1, 1, 0, 0, 0, 0, 0, 0, 0, 0, 0, 0, 0, 0, 0, 0, 0, 0, 0, 1, 1, 0, 0, 0, 0, 0, 0, 0, 0, 0, 0, 1, 0, 0]\n"
     ]
    }
   ],
   "source": [
    "print(labels)"
   ]
  },
  {
   "cell_type": "code",
   "execution_count": 10,
   "metadata": {},
   "outputs": [
    {
     "name": "stdout",
     "output_type": "stream",
     "text": [
      "[1 0 0 1 1 1 0 0 1 0 1 1 1 0 1 1 1 1 0 1 1 0 1 1 0 0 0 0 1 1 0 0 0 1 1 0 0\n",
      " 1 1 1 0 1 0 0 0 0 0 1 1 0 0 0 0 1 0 1 1 0 1 0]\n"
     ]
    }
   ],
   "source": [
    "print(y_test)"
   ]
  },
  {
   "cell_type": "code",
   "execution_count": null,
   "metadata": {
    "collapsed": true
   },
   "outputs": [],
   "source": []
  }
 ],
 "metadata": {
  "kernelspec": {
   "display_name": "Python 3",
   "language": "python",
   "name": "python3"
  },
  "language_info": {
   "codemirror_mode": {
    "name": "ipython",
    "version": 3
   },
   "file_extension": ".py",
   "mimetype": "text/x-python",
   "name": "python",
   "nbconvert_exporter": "python",
   "pygments_lexer": "ipython3",
   "version": "3.6.6"
  }
 },
 "nbformat": 4,
 "nbformat_minor": 2
}
